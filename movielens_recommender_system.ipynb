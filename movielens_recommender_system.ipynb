{
  "cells": [
    {
      "cell_type": "markdown",
      "metadata": {
        "id": "view-in-github",
        "colab_type": "text"
      },
      "source": [
        "<a href=\"https://colab.research.google.com/github/data-tamer2410/ds-movielens-recommender-system/blob/main/movielens_recommender_system.ipynb\" target=\"_parent\"><img src=\"https://colab.research.google.com/assets/colab-badge.svg\" alt=\"Open In Colab\"/></a>"
      ]
    },
    {
      "cell_type": "code",
      "execution_count": 2,
      "metadata": {
        "id": "nMGxnmSDSHEV"
      },
      "outputs": [],
      "source": [
        "import pandas as pd\n",
        "import numpy as np\n",
        "import optuna\n",
        "import matplotlib.pyplot as plt\n",
        "from surprise.dataset import Dataset\n",
        "from surprise import Reader\n",
        "from surprise.model_selection import train_test_split, cross_validate, GridSearchCV, ShuffleSplit\n",
        "from surprise.accuracy import rmse,mae\n",
        "from surprise import SVD, SVDpp, NMF\n",
        "from scipy.io import loadmat\n",
        "%matplotlib inline"
      ]
    },
    {
      "cell_type": "markdown",
      "source": [
        "# Task 1."
      ],
      "metadata": {
        "id": "ZUhlub0M66jk"
      }
    },
    {
      "cell_type": "markdown",
      "source": [
        "Build a high-quality cobolarative recommender system using surprise."
      ],
      "metadata": {
        "id": "xT-27CXw7Ih3"
      }
    },
    {
      "cell_type": "markdown",
      "metadata": {
        "id": "-i81SZ_M1zvg"
      },
      "source": [
        "# Solving task 1."
      ]
    },
    {
      "cell_type": "markdown",
      "metadata": {
        "id": "w5V6aDzH1mga"
      },
      "source": [
        "## Data loading and preparation."
      ]
    },
    {
      "cell_type": "code",
      "execution_count": 3,
      "metadata": {
        "id": "XXgG21TaSvgV",
        "colab": {
          "base_uri": "https://localhost:8080/"
        },
        "outputId": "8abbf33c-169f-47f9-9958-d1ddb628eaa4"
      },
      "outputs": [
        {
          "output_type": "stream",
          "name": "stdout",
          "text": [
            "Dataset ml-100k could not be found. Do you want to download it? [Y/n] y\n",
            "Trying to download dataset from https://files.grouplens.org/datasets/movielens/ml-100k.zip...\n",
            "Done! Dataset ml-100k has been saved to /root/.surprise_data/ml-100k\n"
          ]
        }
      ],
      "source": [
        "data = Dataset.load_builtin('ml-100k')\n",
        "trainset, testset = train_test_split(data,test_size=0.25,random_state=3)"
      ]
    },
    {
      "cell_type": "markdown",
      "source": [
        "Dataset uploaded successfully!\n",
        "\n",
        "It consists of a table with three columns:\n",
        "- **user_id**: user id;\n",
        "\n",
        "- **item_id**: id of movies;\n",
        "\n",
        "- **rating**: the rating given by a certain user to a certain movie.\n",
        "\n",
        "However, not all users rated all movies, which is why the table has missing values. Our goal is to predict these missing ratings. If a certain movie is highly rated, that movie can be recommended to him."
      ],
      "metadata": {
        "id": "L-Rii3Kr7ohs"
      }
    },
    {
      "cell_type": "markdown",
      "source": [
        "We also immediately divide the data into training and test data."
      ],
      "metadata": {
        "id": "inZHK4qI-d3A"
      }
    },
    {
      "cell_type": "markdown",
      "metadata": {
        "id": "PNbKCmiLCxt5"
      },
      "source": [
        "## Building and testing models."
      ]
    },
    {
      "cell_type": "markdown",
      "metadata": {
        "id": "80LjgQa1C6mk"
      },
      "source": [
        "### SVD"
      ]
    },
    {
      "cell_type": "markdown",
      "source": [
        "The first algorithm we will used is Singular Value Decomposition (SVD). SVD is a powerful mathematical technique used in linear algebra for decomposing a matrix into three other matrices. It plays a crucial role in various applications, including recommendation systems, data compression, and noise reduction.\n",
        "\n"
      ],
      "metadata": {
        "id": "Z2DXxE-A_QAa"
      }
    },
    {
      "cell_type": "markdown",
      "metadata": {
        "id": "wJ5px3gB9vn5"
      },
      "source": [
        "**Selection of hyperparameters using Optuna.**\n",
        "\n",
        "I run the tests several times, each time reducing the range of hyperparameters to find the best parameters."
      ]
    },
    {
      "cell_type": "code",
      "execution_count": null,
      "metadata": {
        "collapsed": true,
        "id": "f2EUJBy125rr"
      },
      "outputs": [],
      "source": [
        "def objective(trial):\n",
        "    n_factors = trial.suggest_int('n_factors',75,115)\n",
        "    n_epochs = trial.suggest_int('n_epochs', 100, 130)\n",
        "    lr_all = trial.suggest_float('lr_all', 0.004,0.006)\n",
        "    reg_all = trial.suggest_float('reg_all', 0.1, 0.1204)\n",
        "\n",
        "    algo = SVD(n_factors=n_factors, n_epochs=n_epochs, lr_all=lr_all, reg_all=reg_all)\n",
        "\n",
        "    results = cross_validate(algo, data, measures=['rmse'], cv=3)\n",
        "\n",
        "    return results['test_rmse'].mean()\n",
        "\n",
        "study = optuna.create_study(direction='minimize', pruner=optuna.pruners.HyperbandPruner())\n",
        "study.optimize(objective, n_trials=50)"
      ]
    },
    {
      "cell_type": "code",
      "execution_count": null,
      "metadata": {
        "colab": {
          "base_uri": "https://localhost:8080/"
        },
        "id": "Y9ZX6R_eJqo1",
        "outputId": "7cfe9004-ac6c-4390-ec18-02dcbb27489d"
      },
      "outputs": [
        {
          "name": "stdout",
          "output_type": "stream",
          "text": [
            "Best params: {'n_factors': 104, 'n_epochs': 108, 'lr_all': 0.004101210489359503, 'reg_all': 0.11113407899883955}\n",
            "Best RMSE: 0.9172164854103754\n"
          ]
        }
      ],
      "source": [
        "print(\"Best params:\", study.best_params)\n",
        "print(\"Best RMSE:\", study.best_value)"
      ]
    },
    {
      "cell_type": "code",
      "source": [
        "svd = SVD(n_factors=104,n_epochs=108,lr_all=0.004101210489359503,\n",
        "          reg_all=0.11113407899883955,random_state=23)"
      ],
      "metadata": {
        "id": "pFG8zBk8H4Wr"
      },
      "execution_count": null,
      "outputs": []
    },
    {
      "cell_type": "markdown",
      "source": [
        "We will test the model on cross-validation and control test on test data, as quality assessment we will use RMSE and MAE.\n",
        "\n",
        "We will save the results of cross-validation to compare the models at the end."
      ],
      "metadata": {
        "id": "h5T6V39PB1QU"
      }
    },
    {
      "cell_type": "markdown",
      "source": [
        "**CV test.**"
      ],
      "metadata": {
        "id": "JRmziwTXB6-J"
      }
    },
    {
      "cell_type": "code",
      "source": [
        "cv = ShuffleSplit(n_splits=5,random_state=23)\n",
        "\n",
        "scores = cross_validate(svd,data=data,cv=cv)\n",
        "rmse_mae_svd = scores['test_rmse'].mean(), scores['test_mae'].mean()\n",
        "\n",
        "print(f\"Result cv SVD:\\nRMSE: {rmse_mae_svd[0]}\\nMAE: {rmse_mae_svd[1]}\")"
      ],
      "metadata": {
        "colab": {
          "base_uri": "https://localhost:8080/"
        },
        "id": "sTiHHm9sO7o0",
        "outputId": "632046f9-4615-4494-df32-09035e9f67ec"
      },
      "execution_count": null,
      "outputs": [
        {
          "output_type": "stream",
          "name": "stdout",
          "text": [
            "Result cv SVD:\n",
            "RMSE: 0.9104453226668714\n",
            "MAE: 0.720513488180442\n"
          ]
        }
      ]
    },
    {
      "cell_type": "markdown",
      "source": [
        "**Control test.**"
      ],
      "metadata": {
        "id": "ltKviVUEB_v9"
      }
    },
    {
      "cell_type": "code",
      "source": [
        "svd.fit(trainset)\n",
        "y_pred = svd.test(testset)\n",
        "\n",
        "print(rmse(y_pred))\n",
        "print()\n",
        "print(mae(y_pred))"
      ],
      "metadata": {
        "colab": {
          "base_uri": "https://localhost:8080/"
        },
        "id": "JaV9zJyeOokU",
        "outputId": "4d98a1cc-df75-408f-ee79-70e6540e698b"
      },
      "execution_count": null,
      "outputs": [
        {
          "output_type": "stream",
          "name": "stdout",
          "text": [
            "RMSE: 0.9046\n",
            "0.9045500281091379\n",
            "\n",
            "MAE:  0.7159\n",
            "0.715903741243391\n"
          ]
        }
      ]
    },
    {
      "cell_type": "markdown",
      "metadata": {
        "id": "Ej6k4-zNI-3c"
      },
      "source": [
        "### SVD++"
      ]
    },
    {
      "cell_type": "markdown",
      "metadata": {
        "id": "KPq0QcWeCbrt"
      },
      "source": [
        "**Selection of hyperparameters using GridSearch.**\n",
        "\n",
        "I run the tests several times, each time reducing the range of hyperparameters to find the best parameters."
      ]
    },
    {
      "cell_type": "code",
      "execution_count": null,
      "metadata": {
        "id": "jzQ709OwAjAh",
        "outputId": "f1984c53-701c-415d-cb8f-17564ee6347e"
      },
      "outputs": [
        {
          "name": "stdout",
          "output_type": "stream",
          "text": [
            "Best RMSE: 0.9203414536028466\n",
            "Best Params: {'n_factors': 10, 'n_epochs': 14, 'lr_all': 0.006, 'reg_all': 0.001}\n"
          ]
        }
      ],
      "source": [
        "param_grid = {\n",
        "    'n_factors': [10,15],\n",
        "    'n_epochs': [14,15,16],\n",
        "    'lr_all': [0.006,0.007],\n",
        "    'reg_all':[0.0009,0.001,0.002]\n",
        "}\n",
        "grid_search = GridSearchCV(SVDpp, param_grid, measures=['rmse'], cv=3, n_jobs=-1)\n",
        "grid_search.fit(data)\n",
        "\n",
        "print(f\"Best RMSE: {grid_search.best_score['rmse']}\")\n",
        "print(f\"Best Params: {grid_search.best_params['rmse']}\")"
      ]
    },
    {
      "cell_type": "code",
      "source": [
        "svdpp = SVDpp(n_factors=10,n_epochs=14,lr_all=0.006,reg_all=0.001,random_state=23)"
      ],
      "metadata": {
        "id": "-z3z83TVH8sH"
      },
      "execution_count": null,
      "outputs": []
    },
    {
      "cell_type": "markdown",
      "source": [
        "**CV test.**"
      ],
      "metadata": {
        "id": "_JTIApTgCjeB"
      }
    },
    {
      "cell_type": "code",
      "execution_count": null,
      "metadata": {
        "colab": {
          "base_uri": "https://localhost:8080/"
        },
        "id": "Lfn_wPb9RxX8",
        "outputId": "455fa177-8517-4006-cc9c-b6ebc2138376"
      },
      "outputs": [
        {
          "name": "stdout",
          "output_type": "stream",
          "text": [
            "Result cv SVD++:\n",
            "RMSE: 0.9136186384152346\n",
            "MAE: 0.7168714876182051\n"
          ]
        }
      ],
      "source": [
        "cv = ShuffleSplit(n_splits=3,random_state=23)\n",
        "\n",
        "scores = cross_validate(svdpp,data=data,cv=cv)\n",
        "rmse_mae_svdpp = scores['test_rmse'].mean(), scores['test_mae'].mean()\n",
        "\n",
        "print(f\"Result cv SVD++:\\nRMSE: {rmse_mae_svdpp[0]}\\nMAE: {rmse_mae_svdpp[1]}\")"
      ]
    },
    {
      "cell_type": "markdown",
      "source": [
        "**Control test.**"
      ],
      "metadata": {
        "id": "yMlhCxiRCm-M"
      }
    },
    {
      "cell_type": "code",
      "execution_count": null,
      "metadata": {
        "colab": {
          "base_uri": "https://localhost:8080/"
        },
        "id": "C-m2UY_NiA2-",
        "outputId": "9af00c36-edc7-49e9-8c6b-7e20df1f0dc6"
      },
      "outputs": [
        {
          "output_type": "stream",
          "name": "stdout",
          "text": [
            "RMSE: 0.9060\n",
            "0.9060394111805455\n",
            "\n",
            "MAE:  0.7116\n",
            "0.7116129729418912\n"
          ]
        }
      ],
      "source": [
        "svdpp.fit(trainset)\n",
        "y_pred = svdpp.test(testset)\n",
        "\n",
        "print(rmse(y_pred))\n",
        "print()\n",
        "print(mae(y_pred))"
      ]
    },
    {
      "cell_type": "markdown",
      "metadata": {
        "id": "F1rLFzgbircD"
      },
      "source": [
        "### NMF"
      ]
    },
    {
      "cell_type": "markdown",
      "metadata": {
        "id": "kq0EFzetDkYO"
      },
      "source": [
        "**Selection of hyperparameters using Optuna.**\n",
        "\n",
        "I run the tests several times, each time reducing the range of hyperparameters to find the best parameters."
      ]
    },
    {
      "cell_type": "code",
      "execution_count": null,
      "metadata": {
        "id": "F1cTWukYIWWr"
      },
      "outputs": [],
      "source": [
        "def objective(trial):\n",
        "    n_factors = trial.suggest_int('n_factors',10,160)\n",
        "    n_epochs = trial.suggest_int('n_epochs',10,160)\n",
        "    reg_pu = trial.suggest_float('reg_pu',0.0001,10)\n",
        "    reg_qi = trial.suggest_float('reg_qi',0.0001,10)\n",
        "    reg_bu = trial.suggest_float('reg_bu',0.0001,10)\n",
        "    reg_bi = trial.suggest_float('reg_bi',0.0001,10)\n",
        "    lr_bu = trial.suggest_float('lr_bu',0.0001,10)\n",
        "    lr_bi = trial.suggest_float('lr_bi',0.0001,10)\n",
        "\n",
        "    algo = NMF(n_factors=n_factors,n_epochs=n_epochs,reg_pu=reg_pu,reg_qi=reg_qi,reg_bu=reg_bu,\n",
        "          reg_bi=reg_bi,lr_bu=lr_bu,lr_bi=lr_bi,random_state=23)\n",
        "\n",
        "    results = cross_validate(algo,data,cv=3,measures=['rmse'])\n",
        "\n",
        "    return results['test_rmse'].mean()\n",
        "\n",
        "study = optuna.create_study(direction='minimize',pruner=optuna.pruners.HyperbandPruner())\n",
        "study.optimize(objective,n_trials=30,n_jobs=-1)"
      ]
    },
    {
      "cell_type": "code",
      "execution_count": null,
      "metadata": {
        "colab": {
          "base_uri": "https://localhost:8080/"
        },
        "id": "Ffylr93G1RVu",
        "outputId": "832068f8-bbca-4ccc-a75c-00885d153d91"
      },
      "outputs": [
        {
          "name": "stdout",
          "output_type": "stream",
          "text": [
            "Best params: {'n_factors': 154, 'n_epochs': 148, 'reg_pu': 0.09759704430402118, 'reg_qi': 0.11841004464225398, 'reg_bu': 5.405666381883821, 'reg_bi': 12.740958639652561, 'lr_bu': 6.947714282733879, 'lr_bi': 4.88611242435783}\n",
            "Best RMSE: 0.9252907837039027\n"
          ]
        }
      ],
      "source": [
        "print(\"Best params:\", study.best_params)\n",
        "print(\"Best RMSE:\", study.best_value)"
      ]
    },
    {
      "cell_type": "code",
      "source": [
        "nmf = NMF(n_factors=154,n_epochs=148,reg_pu = 0.09759704430402118,reg_qi = 0.11841004464225398 , reg_bu = 5.405666381883821,\n",
        "          reg_bi = 12.740958639652561, lr_bu = 6.947714282733879, lr_bi = 4.88611242435783,random_state=23)"
      ],
      "metadata": {
        "id": "SravIqqFIBGc"
      },
      "execution_count": null,
      "outputs": []
    },
    {
      "cell_type": "markdown",
      "source": [
        "**CV test.**"
      ],
      "metadata": {
        "id": "CM-fkt0EDmo1"
      }
    },
    {
      "cell_type": "code",
      "execution_count": null,
      "metadata": {
        "colab": {
          "base_uri": "https://localhost:8080/"
        },
        "id": "BXGqqrl8iwCH",
        "outputId": "3b173570-352e-4072-bbeb-d46ce68c5484"
      },
      "outputs": [
        {
          "name": "stdout",
          "output_type": "stream",
          "text": [
            "Result cv NMF:\n",
            "RMSE: 0.9162534851364196\n",
            "MAE: 0.7295657026190355\n"
          ]
        }
      ],
      "source": [
        "cv = ShuffleSplit(n_splits=5,random_state=23)\n",
        "\n",
        "scores = cross_validate(nmf,data=data,cv=cv)\n",
        "rmse_mae_nmf = scores['test_rmse'].mean(), scores['test_mae'].mean()\n",
        "\n",
        "print(f\"Result cv NMF:\\nRMSE: {rmse_mae_nmf[0]}\\nMAE: {rmse_mae_nmf[1]}\")"
      ]
    },
    {
      "cell_type": "markdown",
      "source": [
        "**Control test.**"
      ],
      "metadata": {
        "id": "g7a1TnP_DqD-"
      }
    },
    {
      "cell_type": "code",
      "execution_count": null,
      "metadata": {
        "colab": {
          "base_uri": "https://localhost:8080/"
        },
        "id": "3P3HQPeem600",
        "outputId": "6a5cc333-80de-4b70-c862-3401112154bd"
      },
      "outputs": [
        {
          "output_type": "stream",
          "name": "stdout",
          "text": [
            "RMSE: 0.9130\n",
            "0.9129508854871363\n",
            "\n",
            "MAE:  0.7267\n",
            "0.7266570840122103\n"
          ]
        }
      ],
      "source": [
        "nmf.fit(trainset)\n",
        "y_pred = nmf.test(testset)\n",
        "\n",
        "print(rmse(y_pred))\n",
        "print()\n",
        "print(mae(y_pred))"
      ]
    },
    {
      "cell_type": "markdown",
      "metadata": {
        "id": "Ywpw-I0bqPXM"
      },
      "source": [
        "## Comparison of model performance."
      ]
    },
    {
      "cell_type": "code",
      "execution_count": null,
      "metadata": {
        "colab": {
          "base_uri": "https://localhost:8080/",
          "height": 607
        },
        "id": "rF8M4ZefqW2y",
        "outputId": "a9489612-6ec5-4592-e077-74e78fd82f3f"
      },
      "outputs": [
        {
          "data": {
            "image/png": "[encoded data removed]",
            "text/plain": [
              "<Figure size 1000x600 with 1 Axes>"
            ]
          },
          "metadata": {},
          "output_type": "display_data"
        }
      ],
      "source": [
        "rmse_values = rmse_mae_svd[0], rmse_mae_svdpp[0], rmse_mae_nmf[0]\n",
        "mae_values = rmse_mae_svd[1], rmse_mae_svdpp[1], rmse_mae_nmf[1]\n",
        "\n",
        "labels = ['SVD','SVD++','NMF']\n",
        "x = np.arange(len(labels))\n",
        "width = 0.35\n",
        "\n",
        "plt.figure(figsize=(10, 6))\n",
        "\n",
        "plt.bar(x - width / 2, rmse_values, width, label='RMSE', color='#6baed6',edgecolor='black',linewidth=1,zorder=3)\n",
        "plt.bar(x + width / 2, mae_values, width, label='MAE', color='#fdae61',edgecolor='black',linewidth=1,zorder=3)\n",
        "\n",
        "plt.ylabel('Values')\n",
        "plt.title('Comparison of RMSE and MAE for Algorithms')\n",
        "plt.xticks(x, labels)\n",
        "plt.yticks(np.arange(0,np.max([rmse_values,mae_values]) + 0.1, 0.1))\n",
        "\n",
        "plt.grid(zorder=0)\n",
        "plt.tight_layout()\n",
        "plt.legend()\n",
        "plt.show()"
      ]
    },
    {
      "cell_type": "markdown",
      "source": [
        "## Recommendation of 10 movies for a user with ID 1484 using different models."
      ],
      "metadata": {
        "id": "UX8oWw5ZGhrn"
      }
    },
    {
      "cell_type": "markdown",
      "source": [
        "Let’s look at the model's results for a user with ID 1487 (a random number) for the first 10 movies they have not yet watched. We will recommend movies if they have a high predicted rating.\n",
        "\n",
        "This is just an example of how the model works for a random user. In practice, these algorithms can be used to recommend a wide variety of movies to many different users."
      ],
      "metadata": {
        "id": "oSwWXSV3Eq7A"
      }
    },
    {
      "cell_type": "code",
      "source": [
        "id_user = 1484\n",
        "df = pd.DataFrame(np.array(data.raw_ratings)[:,:2],columns=['id_user','id_movie'])\n",
        "all_movies = df['id_movie'].unique()\n",
        "watching_movies = df[df['id_user'] == id_user]['id_movie']\n",
        "not_watching_movies = all_movies[~pd.Series(all_movies).isin(watching_movies)]"
      ],
      "metadata": {
        "id": "x_IPEmhfG702"
      },
      "execution_count": null,
      "outputs": []
    },
    {
      "cell_type": "code",
      "source": [
        "ids_10_movies = not_watching_movies[:10]\n",
        "ratings_svd = [svd.predict(id_user,id_movie).est for id_movie in ids_10_movies]\n",
        "ratings_svdpp = [svdpp.predict(id_user,id_movie).est for id_movie in ids_10_movies]\n",
        "ratings_nmf = [nmf.predict(id_user,id_movie).est for id_movie in ids_10_movies]\n",
        "\n",
        "high_rating_threshold = 4.0\n",
        "\n",
        "for id_movie,r_svd,r_svdpp,r_nmf in zip(ids_10_movies,ratings_svd,ratings_svdpp,ratings_nmf):\n",
        "    print(f'Movie: {id_movie}:\\n'\n",
        "          f'SVD: {r_svd:.2f} ({\"not \" if r_svd < high_rating_threshold else \"\"}recommended)\\n'\n",
        "          f'SVD++: {r_svdpp:.2f} ({\"not \" if r_svdpp < high_rating_threshold else \"\"}recommended)\\n'\n",
        "          f'NMF: {r_nmf:.2f} ({\"not \" if r_nmf < high_rating_threshold else \"\"}recommended)\\n')"
      ],
      "metadata": {
        "colab": {
          "base_uri": "https://localhost:8080/"
        },
        "id": "nDJ77h6AOmUc",
        "outputId": "6e0f714b-7d80-4509-f93a-cb3bb1531982"
      },
      "execution_count": null,
      "outputs": [
        {
          "output_type": "stream",
          "name": "stdout",
          "text": [
            "Movie: 242:\n",
            "SVD: 3.91 (not recommended)\n",
            "SVD++: 3.92 (not recommended)\n",
            "NMF: 3.53 (not recommended)\n",
            "\n",
            "Movie: 302:\n",
            "SVD: 4.09 (recommended)\n",
            "SVD++: 4.02 (recommended)\n",
            "NMF: 3.53 (not recommended)\n",
            "\n",
            "Movie: 377:\n",
            "SVD: 2.31 (not recommended)\n",
            "SVD++: 3.16 (not recommended)\n",
            "NMF: 3.53 (not recommended)\n",
            "\n",
            "Movie: 51:\n",
            "SVD: 3.57 (not recommended)\n",
            "SVD++: 3.51 (not recommended)\n",
            "NMF: 3.53 (not recommended)\n",
            "\n",
            "Movie: 346:\n",
            "SVD: 3.51 (not recommended)\n",
            "SVD++: 3.49 (not recommended)\n",
            "NMF: 3.53 (not recommended)\n",
            "\n",
            "Movie: 474:\n",
            "SVD: 4.12 (recommended)\n",
            "SVD++: 4.08 (recommended)\n",
            "NMF: 3.53 (not recommended)\n",
            "\n",
            "Movie: 265:\n",
            "SVD: 3.81 (not recommended)\n",
            "SVD++: 3.75 (not recommended)\n",
            "NMF: 3.53 (not recommended)\n",
            "\n",
            "Movie: 465:\n",
            "SVD: 3.49 (not recommended)\n",
            "SVD++: 3.70 (not recommended)\n",
            "NMF: 3.53 (not recommended)\n",
            "\n",
            "Movie: 451:\n",
            "SVD: 3.39 (not recommended)\n",
            "SVD++: 3.57 (not recommended)\n",
            "NMF: 3.53 (not recommended)\n",
            "\n",
            "Movie: 86:\n",
            "SVD: 3.82 (not recommended)\n",
            "SVD++: 4.03 (recommended)\n",
            "NMF: 3.53 (not recommended)\n",
            "\n"
          ]
        }
      ]
    },
    {
      "cell_type": "markdown",
      "metadata": {
        "id": "QxEVn_7NDMbD"
      },
      "source": [
        "## Conclusion."
      ]
    },
    {
      "cell_type": "markdown",
      "metadata": {
        "id": "UgxZfnL7DR15"
      },
      "source": [
        "In this project, we developed a collaborative recommender system utilizing several algorithms, including Singular Value Decomposition (SVD), SVD++, and Non-negative Matrix Factorization (NMF). By leveraging the Surprise library, we efficiently processed the MovieLens 100K dataset, which provided valuable insights into user preferences and movie ratings.\n",
        "\n",
        "After hyperparameter optimization using techniques such as Optuna for SVD and NMF and GridSearchCV for SVD++, we achieved competitive performance metrics. The cross-validation results revealed the following metrics for each model:\n",
        "\n",
        "- **SVD:** RMSE of 0.910 and MAE of 0.720\n",
        "- **SVD++:** RMSE of 0.914 and MAE of 0.717\n",
        "- **NMF:** RMSE of 0.916 and MAE of 0.730\n",
        "\n",
        "Although SVD yielded the best results in terms of RMSE and MAE, all models demonstrated similar performance levels, indicating their effectiveness in making recommendations. The model's predictions allow us to recommend movies to users based on their previously rated films, enhancing user experience by providing personalized suggestions.\n",
        "\n",
        "Overall, this project not only highlighted the importance of collaborative filtering techniques in building recommendation systems but also provided practical experience in implementing and evaluating these algorithms. The insights gained here can be further applied to refine and improve recommendation strategies in real-world applications.\n"
      ]
    },
    {
      "cell_type": "markdown",
      "metadata": {
        "id": "-O2hZ7aEI2k2"
      },
      "source": [
        "# Tasks with an asterisk."
      ]
    },
    {
      "cell_type": "markdown",
      "source": [
        "It is necessary to independently build a collaborative filtering algorithm."
      ],
      "metadata": {
        "id": "pwnZyLX8HmCU"
      }
    },
    {
      "cell_type": "markdown",
      "source": [
        "# Solving the problem with an asterisk."
      ],
      "metadata": {
        "id": "Ewwuqn2vImMl"
      }
    },
    {
      "cell_type": "markdown",
      "metadata": {
        "id": "Czl_ZrwLRpUd"
      },
      "source": [
        "## Loading and preparing data."
      ]
    },
    {
      "cell_type": "code",
      "execution_count": 10,
      "metadata": {
        "id": "HYP5vxj2RLLX"
      },
      "outputs": [],
      "source": [
        "data = loadmat('movies.mat')\n",
        "Y, R = data['Y'], data['R']"
      ]
    },
    {
      "cell_type": "markdown",
      "source": [
        "The dataset has been successfully downloaded!  \n",
        "\n",
        "**Y** - consists of a ratings table where rows represent users and columns represent movies. However, not all users have rated all movies, resulting in missing values in the table. Our goal is to predict these missing ratings. If a rating given by a user for a specific movie is high, that movie can be recommended to the user.\n",
        "\n",
        "**R**  - is a matrix with the same dimension where there are only two values.\n",
        "1 if the user rated the movie, 0 otherwise."
      ],
      "metadata": {
        "id": "lrFDPApfI_6x"
      }
    },
    {
      "cell_type": "code",
      "execution_count": 11,
      "metadata": {
        "id": "OvvHE9SqBytz"
      },
      "outputs": [],
      "source": [
        "# We divide the rating matrix into three columns: id_user, id_movie, rating.\n",
        "# This is done in order to divide the data into training and test data using the surprise function.\n",
        "df_Y = pd.DataFrame(Y)\n",
        "df_Y.index.name = 'id_user'\n",
        "df_Y.columns.name = 'id_movie'\n",
        "df_Y = df_Y.stack().reset_index()\n",
        "df_Y.rename(columns={0:'rating'},inplace=True)"
      ]
    },
    {
      "cell_type": "code",
      "execution_count": 12,
      "metadata": {
        "id": "RtaErJDgFCnT"
      },
      "outputs": [],
      "source": [
        "reader = Reader()\n",
        "\n",
        "dataset = Dataset.load_from_df(df_Y,reader)\n",
        "trainset, testset = train_test_split(dataset,test_size=0.25,random_state=34)"
      ]
    },
    {
      "cell_type": "code",
      "execution_count": 13,
      "metadata": {
        "id": "24gFtdj9uPns"
      },
      "outputs": [],
      "source": [
        "# Functions to return training and test data to a standard format.\n",
        "def trainset_to_np(trainset):\n",
        "    ratings = trainset.build_testset()\n",
        "    trainset_df = pd.DataFrame(ratings, columns=['id_user','id_movie','rating'])\n",
        "    trainset_df['id_user'] = trainset_df['id_user'].apply(lambda x: trainset.to_raw_uid(x))\n",
        "    trainset_df['id_movie'] = trainset_df['id_movie'].apply(lambda x: trainset.to_raw_iid(x))\n",
        "    trainset_df = trainset_df.pivot(index='id_user',columns='id_movie',values='rating')\n",
        "    trainset_df.fillna(0,inplace=True)\n",
        "    R_trainset_df = np.where(trainset_df>0,1,0)\n",
        "    return trainset_df.values, R_trainset_df\n",
        "\n",
        "def testset_to_np(testset):\n",
        "    testset_df = pd.DataFrame(testset,columns=['id_user','id_movie','rating'])\n",
        "    testset_df['id_user'] = testset_df['id_user'].apply(lambda x: trainset.to_raw_uid(x))\n",
        "    testset_df['id_movie'] = testset_df['id_movie'].apply(lambda x: trainset.to_raw_iid(x))\n",
        "    testset_df = testset_df.pivot(index='id_user',columns='id_movie',values='rating')\n",
        "    testset_df.fillna(0,inplace=True)\n",
        "    R_testset_df = np.where(testset_df>0,1,0)\n",
        "    return testset_df.values, R_testset_df"
      ]
    },
    {
      "cell_type": "code",
      "execution_count": 14,
      "metadata": {
        "id": "2HYC8-37F6FP"
      },
      "outputs": [],
      "source": [
        "# We convert training and test data into a standard format convenient for us.\n",
        "trainset_np, R_trainset_np = trainset_to_np(trainset)\n",
        "testset_np, R_testset_np = testset_to_np(testset)"
      ]
    },
    {
      "cell_type": "markdown",
      "metadata": {
        "id": "8MJ4YasZRzvG"
      },
      "source": [
        "## Implementation of collaborative filtering from scratch."
      ]
    },
    {
      "cell_type": "code",
      "execution_count": 15,
      "metadata": {
        "id": "C5jNCTYeSIxs"
      },
      "outputs": [],
      "source": [
        "def predict(P,Q,study=False):\n",
        "    return np.clip((P @ Q.T),1,5) if not study else (P @ Q.T)\n",
        "\n",
        "def loss_func_with_reg(R,P,Q,Y,reg_param):\n",
        "    mask = R > 0\n",
        "    y_pred = predict(P,Q,study=True)[mask]\n",
        "    Y = Y[mask]\n",
        "    m = Y.size\n",
        "    mse = (1 / 2) * np.mean((y_pred - Y) ** 2)\n",
        "    reg = (reg_param / 2) * (np.sum(P**2) + np.sum(Q**2))\n",
        "    return  mse  + reg\n",
        "\n",
        "def gradient_step(R,P,Q,Y,alpha,reg_param):\n",
        "    mask = R == 0\n",
        "    y_pred = predict(P,Q,study=True)\n",
        "    error = y_pred - Y\n",
        "    error[mask] = 0\n",
        "\n",
        "    P_grad = error @ Q + reg_param * P\n",
        "    P -= alpha * P_grad\n",
        "\n",
        "    Q_grad = error.T @ P + reg_param * Q\n",
        "    Q -= alpha * Q_grad\n",
        "    return P, Q\n",
        "\n",
        "def mae_score(R,P,Q,Y):\n",
        "    mask = R > 0\n",
        "    y_pred = predict(P,Q)[mask]\n",
        "    Y = Y[mask]\n",
        "    mae = np.mean(np.abs(y_pred - Y))\n",
        "    return mae\n",
        "\n",
        "def rmse_score(R,P,Q,Y):\n",
        "    mask = R > 0\n",
        "    y_pred = predict(P,Q)[mask]\n",
        "    Y = Y[mask]\n",
        "    rmse = np.sqrt(np.mean((y_pred - Y) ** 2))\n",
        "    return rmse"
      ]
    },
    {
      "cell_type": "markdown",
      "metadata": {
        "id": "aR668wm1JEoE"
      },
      "source": [
        "## Selection of hyperparameters."
      ]
    },
    {
      "cell_type": "code",
      "execution_count": null,
      "metadata": {
        "id": "3gn-8cNOJJwI"
      },
      "outputs": [],
      "source": [
        "def objective(trail):\n",
        "    n_features = trail.suggest_int('n_features',70,75)\n",
        "    n_iters = trail.suggest_int('n_iters', 390,445)\n",
        "    alpha = trail.suggest_float('alpha',0.00003,0.000035)\n",
        "    reg_param = trail.suggest_float('reg_param',44,50)\n",
        "\n",
        "    cv = ShuffleSplit(n_splits=3,test_size=0.2,random_state=32)\n",
        "\n",
        "    results_rmse = []\n",
        "\n",
        "    for train,test in cv.split(dataset):\n",
        "        train_np, R_train_np = trainset_to_np(train)\n",
        "        test_np, R_test_np = testset_to_np(test)\n",
        "\n",
        "        P = np.random.rand(train_np.shape[0],n_features)\n",
        "        Q = np.random.rand(train_np.shape[1],n_features)\n",
        "\n",
        "        for _ in range(n_iters):\n",
        "            P, Q = gradient_step(R_train_np,P,Q,train_np,alpha,reg_param)\n",
        "\n",
        "        results_rmse.append(rmse_score(R_test_np,P,Q,test_np))\n",
        "\n",
        "    return np.mean(results_rmse)\n",
        "\n",
        "study = optuna.create_study(direction='minimize',pruner=optuna.pruners.HyperbandPruner())\n",
        "study.optimize(objective,n_trials=30,n_jobs=-1,show_progress_bar=True)"
      ]
    },
    {
      "cell_type": "code",
      "source": [
        "print(\"Best params:\", study.best_params)\n",
        "print(\"Best RMSE:\", study.best_value)"
      ],
      "metadata": {
        "colab": {
          "base_uri": "https://localhost:8080/"
        },
        "id": "6K4N4Fx8nRhT",
        "outputId": "f507ba6a-1f82-46b9-fcec-b18149062a01"
      },
      "execution_count": null,
      "outputs": [
        {
          "output_type": "stream",
          "name": "stdout",
          "text": [
            "Best params: {'n_features': 70, 'n_iters': 405, 'alpha': 3.2349119733699644e-05, 'reg_param': 45.54877502634756}\n",
            "Best RMSE: 1.3171355550072654\n"
          ]
        }
      ]
    },
    {
      "cell_type": "markdown",
      "metadata": {
        "id": "wdsjY58dzhIz"
      },
      "source": [
        "## Model training."
      ]
    },
    {
      "cell_type": "code",
      "execution_count": 18,
      "metadata": {
        "id": "othF2c-0S4sY",
        "colab": {
          "base_uri": "https://localhost:8080/"
        },
        "outputId": "0db8c163-b169-48b8-97b9-b9055f08937b"
      },
      "outputs": [
        {
          "output_type": "stream",
          "name": "stdout",
          "text": [
            "Itere: 0\n",
            "Loss: 1399470.3158560353\n",
            "RMSE: 1.852167936321661\n",
            "MAE: 1.4709231340906679\n",
            "\n",
            "Itere: 100\n",
            "Loss: 707958.4064158531\n",
            "RMSE: 1.4188168613391208\n",
            "MAE: 1.1363128747562734\n",
            "\n",
            "Itere: 200\n",
            "Loss: 521057.62796925317\n",
            "RMSE: 1.1750977698592922\n",
            "MAE: 0.9468122953723207\n",
            "\n",
            "Itere: 300\n",
            "Loss: 400432.56942832493\n",
            "RMSE: 1.0503498883775615\n",
            "MAE: 0.8529760729432625\n",
            "\n",
            "Itere: 400\n",
            "Loss: 317472.80049880716\n",
            "RMSE: 1.0175171127446736\n",
            "MAE: 0.829638354878812\n",
            "\n",
            "Itere: 404\n",
            "Loss: 314730.8089543116\n",
            "RMSE: 1.0173788887391515\n",
            "MAE: 0.829563980138492\n",
            "\n"
          ]
        }
      ],
      "source": [
        "alpha =  3.2349119733699644e-05\n",
        "reg_param = 45.54877502634756\n",
        "n_iters = 405\n",
        "n_features = 70\n",
        "\n",
        "P = np.random.rand(trainset_np.shape[0],n_features)\n",
        "Q = np.random.rand(trainset_np.shape[1],n_features)\n",
        "\n",
        "# Each iteration we will store the values ​​of the loss function, RMSE and MAE.\n",
        "loss_list = []\n",
        "rmse_list = []\n",
        "mae_list = []\n",
        "\n",
        "for i in range(n_iters):\n",
        "    loss_list.append(loss_func_with_reg(R_trainset_np,P,Q,trainset_np,reg_param))\n",
        "    rmse_list.append(rmse_score(R_trainset_np,P,Q,trainset_np))\n",
        "    mae_list.append(mae_score(R_trainset_np,P,Q,trainset_np))\n",
        "    P, Q = gradient_step(R_trainset_np,P,Q,trainset_np,alpha,reg_param)\n",
        "    if any((i % 100 == 0,i == n_iters - 1)):\n",
        "        print(f'Itere: {i}\\nLoss: {loss_list[-1]}\\nRMSE: {rmse_list[-1]}\\nMAE: {mae_list[-1]}\\n')"
      ]
    },
    {
      "cell_type": "markdown",
      "metadata": {
        "id": "bV-HorJzuvbq"
      },
      "source": [
        "## Algorithm performance evaluation."
      ]
    },
    {
      "cell_type": "markdown",
      "metadata": {
        "id": "jCu4gJ1C_vbc"
      },
      "source": [
        "### Cross-validation and control test."
      ]
    },
    {
      "cell_type": "code",
      "execution_count": null,
      "metadata": {
        "id": "NToxbTRy__wH",
        "colab": {
          "base_uri": "https://localhost:8080/"
        },
        "outputId": "498f5c04-0f92-4141-cecd-7b474e82ba16"
      },
      "outputs": [
        {
          "output_type": "stream",
          "name": "stdout",
          "text": [
            "CV results:\n",
            "RMSE: 1.302003178676198\n",
            "MAE:1.061560118267319\n"
          ]
        }
      ],
      "source": [
        "cv = ShuffleSplit(n_splits=5,test_size=0.2,random_state=42)\n",
        "\n",
        "res_rmse = []\n",
        "res_mae = []\n",
        "\n",
        "for train_s, test_s in cv.split(dataset):\n",
        "    train_s_np,R_train_s_np = trainset_to_np(train_s)\n",
        "    test_s_np,R_test_s_np = testset_to_np(test_s)\n",
        "\n",
        "    P = np.random.rand(train_s_np.shape[0],n_features)\n",
        "    Q = np.random.rand(train_s_np.shape[1],n_features)\n",
        "\n",
        "    for _ in range(n_iters):\n",
        "        P, Q = gradient_step(R_train_s_np,P,Q,train_s_np,alpha,reg_param)\n",
        "    res_rmse.append(rmse_score(R_test_s_np,P,Q,test_s_np))\n",
        "    res_mae.append(mae_score(R_test_s_np,P,Q,test_s_np))\n",
        "print(f'CV results:\\nRMSE: {np.mean(res_rmse)}\\nMAE:{np.mean(res_mae)}')"
      ]
    },
    {
      "cell_type": "code",
      "execution_count": null,
      "metadata": {
        "id": "DaTGySVxUU6v",
        "colab": {
          "base_uri": "https://localhost:8080/"
        },
        "outputId": "2d92a40d-d53c-460d-e09e-caa687130cd7"
      },
      "outputs": [
        {
          "output_type": "stream",
          "name": "stdout",
          "text": [
            "Finaly results:\n",
            "RMSE: 1.3237721546259138\n",
            "MAE: 1.0819947085828954\n"
          ]
        }
      ],
      "source": [
        "print(f'Finaly results:\\nRMSE: {rmse_score(R_testset_np,P,Q,testset_np)}\\n'\n",
        "      f'MAE: {mae_score(R_testset_np,P,Q,testset_np)}')"
      ]
    },
    {
      "cell_type": "markdown",
      "metadata": {
        "id": "eVxmayeK_pye"
      },
      "source": [
        "### Construction of graphs, model work."
      ]
    },
    {
      "cell_type": "markdown",
      "source": [
        "We compare 15 predicted ratings with target values."
      ],
      "metadata": {
        "id": "dIndU27mQzRL"
      }
    },
    {
      "cell_type": "code",
      "source": [
        "y_pred = predict(P,Q)\n",
        "scores = pd.DataFrame({'y_pred':y_pred[R != 0][:15],'y_true':Y[R != 0][:15]})\n",
        "scores.index.name = 'movie_id'"
      ],
      "metadata": {
        "id": "qqACGy6ZQCE6"
      },
      "execution_count": null,
      "outputs": []
    },
    {
      "cell_type": "code",
      "source": [
        "plt.figure(figsize=(10, 6))\n",
        "\n",
        "x = scores.index\n",
        "width = 0.35\n",
        "\n",
        "plt.bar(x - width / 2, scores['y_pred'],width=width,color='#6baed6',label='Predictions',zorder=2)\n",
        "plt.bar(x + width / 2, scores['y_true'],width=width,color='#fdae61',label='Targets',zorder=3)\n",
        "\n",
        "plt.title('Predictions vs. Targets ')\n",
        "plt.ylabel('Ratings')\n",
        "plt.xlabel('Movies')\n",
        "\n",
        "plt.tight_layout()\n",
        "plt.legend()\n",
        "plt.grid(zorder=1)\n",
        "plt.show()"
      ],
      "metadata": {
        "colab": {
          "base_uri": "https://localhost:8080/",
          "height": 607
        },
        "id": "wToRVxcWtYrx",
        "outputId": "63cae887-0fce-4c07-dc6f-2f5ca8110d87"
      },
      "execution_count": null,
      "outputs": [
        {
          "output_type": "display_data",
          "data": {
            "text/plain": [
              "<Figure size 1000x600 with 1 Axes>"
            ],
            "image/png": "[encoded data removed]"
          },
          "metadata": {}
        }
      ]
    },
    {
      "cell_type": "markdown",
      "source": [
        "Let's look at the learning loss function, if it decreases, then the algorithm optimizes its parameters."
      ],
      "metadata": {
        "id": "OoylUkkGRR0X"
      }
    },
    {
      "cell_type": "code",
      "source": [
        "plt.figure(figsize=(10, 6))\n",
        "\n",
        "plt.plot(range(n_iters), loss_list)\n",
        "plt.xlabel('Iterations')\n",
        "plt.ylabel('Loss')\n",
        "plt.title('Loss Func vs. Iterations')\n",
        "plt.show()"
      ],
      "metadata": {
        "colab": {
          "base_uri": "https://localhost:8080/",
          "height": 564
        },
        "id": "jXAgaK_dRnW8",
        "outputId": "5a54ed7a-20c8-4920-d310-88823846193c"
      },
      "execution_count": 20,
      "outputs": [
        {
          "output_type": "display_data",
          "data": {
            "text/plain": [
              "<Figure size 1000x600 with 1 Axes>"
            ],
            "image/png": "[encoded data removed]"
          },
          "metadata": {}
        }
      ]
    },
    {
      "cell_type": "markdown",
      "source": [
        "Let's look at the RMSE during training, if it decreases, the algorithm will optimize its parameters."
      ],
      "metadata": {
        "id": "Q5M1p7rAR9Bn"
      }
    },
    {
      "cell_type": "code",
      "execution_count": null,
      "metadata": {
        "id": "0fiaSRCLzdl4",
        "colab": {
          "base_uri": "https://localhost:8080/",
          "height": 564
        },
        "outputId": "ccb09504-b346-49ac-c687-fed2e4e8d76a"
      },
      "outputs": [
        {
          "output_type": "display_data",
          "data": {
            "text/plain": [
              "<Figure size 1000x600 with 1 Axes>"
            ],
            "image/png": "[encoded data removed]"
          },
          "metadata": {}
        }
      ],
      "source": [
        "plt.figure(figsize=(10, 6))\n",
        "\n",
        "plt.plot(range(n_iters), rmse_list)\n",
        "plt.xlabel('Iterations')\n",
        "plt.ylabel('RMSE')\n",
        "plt.title('RMSE vs. Iterations')\n",
        "plt.show()"
      ]
    },
    {
      "cell_type": "markdown",
      "source": [
        "Let's look at the MAE during training, if it decreases, the algorithm will optimize its parameters."
      ],
      "metadata": {
        "id": "RIvhcn6nSJCb"
      }
    },
    {
      "cell_type": "code",
      "execution_count": null,
      "metadata": {
        "id": "s76JCcVrgYXF",
        "colab": {
          "base_uri": "https://localhost:8080/",
          "height": 564
        },
        "outputId": "ae16845d-31dc-4411-fd89-e05325d2c2d9"
      },
      "outputs": [
        {
          "output_type": "display_data",
          "data": {
            "text/plain": [
              "<Figure size 1000x600 with 1 Axes>"
            ],
            "image/png": "[encoded data removed]"
          },
          "metadata": {}
        }
      ],
      "source": [
        "plt.figure(figsize=(10, 6))\n",
        "\n",
        "plt.plot(range(n_iters), mae_list)\n",
        "plt.xlabel('Iterations')\n",
        "plt.ylabel('MAE')\n",
        "plt.title('MAE vs. Iterations')\n",
        "plt.show()"
      ]
    },
    {
      "cell_type": "markdown",
      "metadata": {
        "id": "gNc6sHkGI3yW"
      },
      "source": [
        "## Recommendation of movies to users."
      ]
    },
    {
      "cell_type": "code",
      "execution_count": 21,
      "metadata": {
        "id": "d0QtLCd5Jc6C"
      },
      "outputs": [],
      "source": [
        "y_pred = predict(P,Q)"
      ]
    },
    {
      "cell_type": "code",
      "execution_count": 22,
      "metadata": {
        "id": "kH1QReI5NNuL"
      },
      "outputs": [],
      "source": [
        "y_pred = pd.DataFrame(y_pred)\n",
        "y_pred.index.name = 'user_id'\n",
        "y_pred.columns.name = 'movie_id'"
      ]
    },
    {
      "cell_type": "code",
      "execution_count": 44,
      "metadata": {
        "id": "NHFp3xlfS8a3",
        "colab": {
          "base_uri": "https://localhost:8080/"
        },
        "outputId": "5a5ea384-62d6-4752-fa37-66c04024e899"
      },
      "outputs": [
        {
          "output_type": "stream",
          "name": "stdout",
          "text": [
            "For User 35 id recommended: Movie 593 id;\n",
            "\n",
            "For User 883 id recommended: Movie 278 id;\n",
            "\n",
            "For User 406 id recommended: Movie 674 id;\n",
            "\n",
            "For User 1547 id recommended: Movie 233 id;\n",
            "\n",
            "For User 1434 id recommended: Movie 344 id;\n",
            "\n",
            "For User 1498 id recommended: Movie 520 id;\n",
            "\n",
            "For User 1475 id recommended: Movie 430 id;\n",
            "\n",
            "For User 1525 id recommended: Movie 550 id;\n",
            "\n",
            "For User 1020 id recommended: Movie 827 id;\n",
            "\n",
            "For User 947 id recommended: Movie 655 id;\n",
            "\n"
          ]
        }
      ],
      "source": [
        "y_pred[R == 1] = 0 # We only need ratings that have not been given before (the user has not rated this movie).\n",
        "hight_rating = y_pred[y_pred >= 3] # Filter by high scores.\n",
        "\n",
        "u_m_ids = hight_rating.stack().reset_index() # We get combinations of user indexes and movies that they are most likely to like.\n",
        "u_m_ids.drop(columns=0,inplace=True) # We will also remove the extra column with the rating.\n",
        "\n",
        "indices = np.random.choice(u_m_ids.shape[0],size=10,replace=False)\n",
        "\n",
        "for i in indices:\n",
        "    print(f\"For User {u_m_ids.loc[i,'user_id']} id \"\n",
        "    f\"recommended: Movie {u_m_ids.loc[i,'movie_id']} id;\\n\")"
      ]
    },
    {
      "cell_type": "markdown",
      "metadata": {
        "id": "0lt3XMwZ2bYI"
      },
      "source": [
        "## Conclusion."
      ]
    },
    {
      "cell_type": "markdown",
      "metadata": {
        "id": "i8ChKHu32lSs"
      },
      "source": [
        "In this project, a collaborative filtering algorithm was successfully implemented to recommend movies to users. The dataset included a matrix of user ratings across various movies (Y) and a binary matrix (R) indicating whether a rating was given. The project involved data preparation, model building from scratch, hyperparameter optimization, and evaluation of recommendation quality.\n",
        "\n",
        "Hyperparameters were tuned using cross-validation and Optuna, which helped minimize the RMSE on the test data. Cross-validation results showed an average RMSE of 1.30 and a Mean Absolute Error (MAE) of 1.06. On the final test set, the model achieved an RMSE of 1.32 and an MAE of 1.08, indicating good model quality and stability in predicting user ratings.\n",
        "\n",
        "During training, the loss function, RMSE, and MAE all decreased, demonstrating successful parameter optimization.\n",
        "\n",
        "In summary, the developed model effectively addresses the task of predicting user preferences, enabling movie recommendations based on high predicted ratings for films the user has not yet rated."
      ]
    }
  ],
  "metadata": {
    "colab": {
      "collapsed_sections": [
        "-i81SZ_M1zvg",
        "w5V6aDzH1mga",
        "80LjgQa1C6mk",
        "Ywpw-I0bqPXM",
        "QxEVn_7NDMbD"
      ],
      "provenance": [],
      "authorship_tag": "ABX9TyNPharQiQ6qAAZxl+nHl0aD",
      "include_colab_link": true
    },
    "kernelspec": {
      "display_name": "Python 3",
      "name": "python3"
    },
    "language_info": {
      "name": "python"
    }
  },
  "nbformat": 4,
  "nbformat_minor": 0
}